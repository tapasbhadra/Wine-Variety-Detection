{
 "cells": [
  {
   "cell_type": "code",
   "execution_count": 1,
   "metadata": {},
   "outputs": [],
   "source": [
    "import numpy as np\n",
    "import pandas as pd\n",
    "import matplotlib.pyplot as plt\n",
    "import seaborn as sn\n",
    "from sklearn.feature_extraction.text import CountVectorizer\n",
    "import re"
   ]
  },
  {
   "cell_type": "code",
   "execution_count": 2,
   "metadata": {},
   "outputs": [],
   "source": [
    "data = pd.read_csv('train.csv')"
   ]
  },
  {
   "cell_type": "code",
   "execution_count": 3,
   "metadata": {
    "scrolled": true
   },
   "outputs": [
    {
     "data": {
      "text/html": [
       "<div>\n",
       "<style scoped>\n",
       "    .dataframe tbody tr th:only-of-type {\n",
       "        vertical-align: middle;\n",
       "    }\n",
       "\n",
       "    .dataframe tbody tr th {\n",
       "        vertical-align: top;\n",
       "    }\n",
       "\n",
       "    .dataframe thead th {\n",
       "        text-align: right;\n",
       "    }\n",
       "</style>\n",
       "<table border=\"1\" class=\"dataframe\">\n",
       "  <thead>\n",
       "    <tr style=\"text-align: right;\">\n",
       "      <th></th>\n",
       "      <th>user_name</th>\n",
       "      <th>country</th>\n",
       "      <th>review_title</th>\n",
       "      <th>review_description</th>\n",
       "      <th>designation</th>\n",
       "      <th>points</th>\n",
       "      <th>price</th>\n",
       "      <th>province</th>\n",
       "      <th>region_1</th>\n",
       "      <th>region_2</th>\n",
       "      <th>winery</th>\n",
       "      <th>variety</th>\n",
       "    </tr>\n",
       "  </thead>\n",
       "  <tbody>\n",
       "    <tr>\n",
       "      <th>0</th>\n",
       "      <td>NaN</td>\n",
       "      <td>Australia</td>\n",
       "      <td>Andrew Peace 2007 Peace Family Vineyard Chardo...</td>\n",
       "      <td>Classic Chardonnay aromas of apple, pear and h...</td>\n",
       "      <td>Peace Family Vineyard</td>\n",
       "      <td>83</td>\n",
       "      <td>10.0</td>\n",
       "      <td>Australia Other</td>\n",
       "      <td>South Eastern Australia</td>\n",
       "      <td>NaN</td>\n",
       "      <td>Andrew Peace</td>\n",
       "      <td>Chardonnay</td>\n",
       "    </tr>\n",
       "    <tr>\n",
       "      <th>1</th>\n",
       "      <td>@wawinereport</td>\n",
       "      <td>US</td>\n",
       "      <td>North by Northwest 2014 Red (Columbia Valley (...</td>\n",
       "      <td>This wine is near equal parts Syrah and Merlot...</td>\n",
       "      <td>NaN</td>\n",
       "      <td>89</td>\n",
       "      <td>15.0</td>\n",
       "      <td>Washington</td>\n",
       "      <td>Columbia Valley (WA)</td>\n",
       "      <td>Columbia Valley</td>\n",
       "      <td>North by Northwest</td>\n",
       "      <td>Red Blend</td>\n",
       "    </tr>\n",
       "    <tr>\n",
       "      <th>2</th>\n",
       "      <td>NaN</td>\n",
       "      <td>Italy</td>\n",
       "      <td>Renato Ratti 2007 Conca  (Barolo)</td>\n",
       "      <td>Barolo Conca opens with inky dark concentratio...</td>\n",
       "      <td>Conca</td>\n",
       "      <td>94</td>\n",
       "      <td>80.0</td>\n",
       "      <td>Piedmont</td>\n",
       "      <td>Barolo</td>\n",
       "      <td>NaN</td>\n",
       "      <td>Renato Ratti</td>\n",
       "      <td>Nebbiolo</td>\n",
       "    </tr>\n",
       "    <tr>\n",
       "      <th>3</th>\n",
       "      <td>@vossroger</td>\n",
       "      <td>France</td>\n",
       "      <td>Domaine l'Ancienne Cure 2010 L'Abbaye White (B...</td>\n",
       "      <td>It's impressive what a small addition of Sauvi...</td>\n",
       "      <td>L'Abbaye</td>\n",
       "      <td>87</td>\n",
       "      <td>22.0</td>\n",
       "      <td>Southwest France</td>\n",
       "      <td>Bergerac Sec</td>\n",
       "      <td>NaN</td>\n",
       "      <td>Domaine l'Ancienne Cure</td>\n",
       "      <td>Bordeaux-style White Blend</td>\n",
       "    </tr>\n",
       "    <tr>\n",
       "      <th>4</th>\n",
       "      <td>@vossroger</td>\n",
       "      <td>France</td>\n",
       "      <td>Château du Cèdre 2012 Le Cèdre Vintage Malbec ...</td>\n",
       "      <td>This ripe, sweet wine is rich and full of drie...</td>\n",
       "      <td>Le Cèdre Vintage</td>\n",
       "      <td>88</td>\n",
       "      <td>33.0</td>\n",
       "      <td>France Other</td>\n",
       "      <td>Vin de Liqueur</td>\n",
       "      <td>NaN</td>\n",
       "      <td>Château du Cèdre</td>\n",
       "      <td>Malbec</td>\n",
       "    </tr>\n",
       "  </tbody>\n",
       "</table>\n",
       "</div>"
      ],
      "text/plain": [
       "       user_name    country  \\\n",
       "0            NaN  Australia   \n",
       "1  @wawinereport         US   \n",
       "2            NaN      Italy   \n",
       "3     @vossroger     France   \n",
       "4     @vossroger     France   \n",
       "\n",
       "                                        review_title  \\\n",
       "0  Andrew Peace 2007 Peace Family Vineyard Chardo...   \n",
       "1  North by Northwest 2014 Red (Columbia Valley (...   \n",
       "2                  Renato Ratti 2007 Conca  (Barolo)   \n",
       "3  Domaine l'Ancienne Cure 2010 L'Abbaye White (B...   \n",
       "4  Château du Cèdre 2012 Le Cèdre Vintage Malbec ...   \n",
       "\n",
       "                                  review_description            designation  \\\n",
       "0  Classic Chardonnay aromas of apple, pear and h...  Peace Family Vineyard   \n",
       "1  This wine is near equal parts Syrah and Merlot...                    NaN   \n",
       "2  Barolo Conca opens with inky dark concentratio...                  Conca   \n",
       "3  It's impressive what a small addition of Sauvi...               L'Abbaye   \n",
       "4  This ripe, sweet wine is rich and full of drie...       Le Cèdre Vintage   \n",
       "\n",
       "   points  price          province                 region_1         region_2  \\\n",
       "0      83   10.0   Australia Other  South Eastern Australia              NaN   \n",
       "1      89   15.0        Washington     Columbia Valley (WA)  Columbia Valley   \n",
       "2      94   80.0          Piedmont                   Barolo              NaN   \n",
       "3      87   22.0  Southwest France             Bergerac Sec              NaN   \n",
       "4      88   33.0      France Other           Vin de Liqueur              NaN   \n",
       "\n",
       "                    winery                     variety  \n",
       "0             Andrew Peace                  Chardonnay  \n",
       "1       North by Northwest                   Red Blend  \n",
       "2             Renato Ratti                    Nebbiolo  \n",
       "3  Domaine l'Ancienne Cure  Bordeaux-style White Blend  \n",
       "4         Château du Cèdre                      Malbec  "
      ]
     },
     "execution_count": 3,
     "metadata": {},
     "output_type": "execute_result"
    }
   ],
   "source": [
    "data.head()"
   ]
  },
  {
   "cell_type": "code",
   "execution_count": 4,
   "metadata": {},
   "outputs": [
    {
     "data": {
      "text/html": [
       "<div>\n",
       "<style scoped>\n",
       "    .dataframe tbody tr th:only-of-type {\n",
       "        vertical-align: middle;\n",
       "    }\n",
       "\n",
       "    .dataframe tbody tr th {\n",
       "        vertical-align: top;\n",
       "    }\n",
       "\n",
       "    .dataframe thead th {\n",
       "        text-align: right;\n",
       "    }\n",
       "</style>\n",
       "<table border=\"1\" class=\"dataframe\">\n",
       "  <thead>\n",
       "    <tr style=\"text-align: right;\">\n",
       "      <th></th>\n",
       "      <th>points</th>\n",
       "      <th>price</th>\n",
       "    </tr>\n",
       "  </thead>\n",
       "  <tbody>\n",
       "    <tr>\n",
       "      <th>count</th>\n",
       "      <td>82657.000000</td>\n",
       "      <td>77088.000000</td>\n",
       "    </tr>\n",
       "    <tr>\n",
       "      <th>mean</th>\n",
       "      <td>88.544564</td>\n",
       "      <td>36.922232</td>\n",
       "    </tr>\n",
       "    <tr>\n",
       "      <th>std</th>\n",
       "      <td>3.099649</td>\n",
       "      <td>43.698346</td>\n",
       "    </tr>\n",
       "    <tr>\n",
       "      <th>min</th>\n",
       "      <td>80.000000</td>\n",
       "      <td>4.000000</td>\n",
       "    </tr>\n",
       "    <tr>\n",
       "      <th>25%</th>\n",
       "      <td>86.000000</td>\n",
       "      <td>18.000000</td>\n",
       "    </tr>\n",
       "    <tr>\n",
       "      <th>50%</th>\n",
       "      <td>88.000000</td>\n",
       "      <td>27.000000</td>\n",
       "    </tr>\n",
       "    <tr>\n",
       "      <th>75%</th>\n",
       "      <td>91.000000</td>\n",
       "      <td>45.000000</td>\n",
       "    </tr>\n",
       "    <tr>\n",
       "      <th>max</th>\n",
       "      <td>100.000000</td>\n",
       "      <td>3300.000000</td>\n",
       "    </tr>\n",
       "  </tbody>\n",
       "</table>\n",
       "</div>"
      ],
      "text/plain": [
       "             points         price\n",
       "count  82657.000000  77088.000000\n",
       "mean      88.544564     36.922232\n",
       "std        3.099649     43.698346\n",
       "min       80.000000      4.000000\n",
       "25%       86.000000     18.000000\n",
       "50%       88.000000     27.000000\n",
       "75%       91.000000     45.000000\n",
       "max      100.000000   3300.000000"
      ]
     },
     "execution_count": 4,
     "metadata": {},
     "output_type": "execute_result"
    }
   ],
   "source": [
    "data.describe()"
   ]
  },
  {
   "cell_type": "code",
   "execution_count": 5,
   "metadata": {
    "scrolled": true
   },
   "outputs": [
    {
     "data": {
      "text/plain": [
       "user_name              object\n",
       "country                object\n",
       "review_title           object\n",
       "review_description     object\n",
       "designation            object\n",
       "points                  int64\n",
       "price                 float64\n",
       "province               object\n",
       "region_1               object\n",
       "region_2               object\n",
       "winery                 object\n",
       "variety                object\n",
       "dtype: object"
      ]
     },
     "execution_count": 5,
     "metadata": {},
     "output_type": "execute_result"
    }
   ],
   "source": [
    "data.dtypes"
   ]
  },
  {
   "cell_type": "markdown",
   "metadata": {},
   "source": [
    " ##### Dropping the username column."
   ]
  },
  {
   "cell_type": "code",
   "execution_count": 6,
   "metadata": {},
   "outputs": [],
   "source": [
    "data.drop(columns = 'user_name', axis = 1, inplace = True)"
   ]
  },
  {
   "cell_type": "markdown",
   "metadata": {},
   "source": [
    " "
   ]
  },
  {
   "cell_type": "markdown",
   "metadata": {},
   "source": [
    "## Data Cleaning and Analysis"
   ]
  },
  {
   "cell_type": "code",
   "execution_count": 7,
   "metadata": {
    "scrolled": true
   },
   "outputs": [
    {
     "data": {
      "text/plain": [
       "country                  35\n",
       "review_title              0\n",
       "review_description        0\n",
       "designation           23647\n",
       "points                    0\n",
       "price                  5569\n",
       "province                 35\n",
       "region_1              12754\n",
       "region_2              46708\n",
       "winery                    0\n",
       "variety                   0\n",
       "dtype: int64"
      ]
     },
     "execution_count": 7,
     "metadata": {},
     "output_type": "execute_result"
    }
   ],
   "source": [
    "data.isna().sum()"
   ]
  },
  {
   "cell_type": "code",
   "execution_count": 8,
   "metadata": {
    "scrolled": true
   },
   "outputs": [
    {
     "name": "stdout",
     "output_type": "stream",
     "text": [
      "1. The total unique values in the Designation column are: 26425\n",
      "2. The total unique values in the Variety column are: 28\n",
      "3. The total unique values in the Province column are: 359\n",
      "4. The total unique values in the Country column are: 39\n",
      "4. The total unique values in the region_1 column are: 1020\n"
     ]
    }
   ],
   "source": [
    "print('1. The total unique values in the Designation column are:', len(data['designation'].unique()))\n",
    "print('2. The total unique values in the Variety column are:', len(data['variety'].unique()))\n",
    "print('3. The total unique values in the Province column are:', len(data['province'].unique()))\n",
    "print('4. The total unique values in the Country column are:', len(data['country'].unique()))\n",
    "print('4. The total unique values in the region_1 column are:', len(data['region_1'].unique()))\n"
   ]
  },
  {
   "cell_type": "markdown",
   "metadata": {},
   "source": [
    "#### Handling null values"
   ]
  },
  {
   "cell_type": "markdown",
   "metadata": {},
   "source": [
    "The number of NaN values in the region_2 column are more than the half the total number tupples, and many values in the column are similar to region_1 column. Hence I'll be dropping that column.\n",
    "Next is the Designation column where a total of 23647 values are missing. Having checked the unique valeus which account for 26425,it is not possible to fill in the missing values. Hence, I'll be dropping the designation column.\n"
   ]
  },
  {
   "cell_type": "code",
   "execution_count": 9,
   "metadata": {},
   "outputs": [],
   "source": [
    "data.drop(columns = ['region_2','designation'], axis = 1, inplace = True)\n",
    "data.dropna(subset = ['province', 'country'], inplace = True)"
   ]
  },
  {
   "cell_type": "markdown",
   "metadata": {},
   "source": [
    "The Na values in the price column are replaced with the mean values of the price columns."
   ]
  },
  {
   "cell_type": "code",
   "execution_count": 10,
   "metadata": {},
   "outputs": [],
   "source": [
    "data['price'] = data['price'].fillna(data['price'].mean())"
   ]
  },
  {
   "cell_type": "code",
   "execution_count": 11,
   "metadata": {
    "scrolled": true
   },
   "outputs": [
    {
     "data": {
      "text/html": [
       "<div>\n",
       "<style scoped>\n",
       "    .dataframe tbody tr th:only-of-type {\n",
       "        vertical-align: middle;\n",
       "    }\n",
       "\n",
       "    .dataframe tbody tr th {\n",
       "        vertical-align: top;\n",
       "    }\n",
       "\n",
       "    .dataframe thead th {\n",
       "        text-align: right;\n",
       "    }\n",
       "</style>\n",
       "<table border=\"1\" class=\"dataframe\">\n",
       "  <thead>\n",
       "    <tr style=\"text-align: right;\">\n",
       "      <th></th>\n",
       "      <th>country</th>\n",
       "      <th>review_title</th>\n",
       "      <th>review_description</th>\n",
       "      <th>points</th>\n",
       "      <th>price</th>\n",
       "      <th>province</th>\n",
       "      <th>region_1</th>\n",
       "      <th>winery</th>\n",
       "      <th>variety</th>\n",
       "    </tr>\n",
       "  </thead>\n",
       "  <tbody>\n",
       "    <tr>\n",
       "      <th>1</th>\n",
       "      <td>US</td>\n",
       "      <td>North by Northwest 2014 Red (Columbia Valley (...</td>\n",
       "      <td>This wine is near equal parts Syrah and Merlot...</td>\n",
       "      <td>89</td>\n",
       "      <td>15.0</td>\n",
       "      <td>Washington</td>\n",
       "      <td>Columbia Valley (WA)</td>\n",
       "      <td>North by Northwest</td>\n",
       "      <td>Red Blend</td>\n",
       "    </tr>\n",
       "    <tr>\n",
       "      <th>6</th>\n",
       "      <td>US</td>\n",
       "      <td>Gordon Estate 2012 Tradition Red (Columbia Val...</td>\n",
       "      <td>Half Syrah and half Cabernet Sauvignon, with 4...</td>\n",
       "      <td>91</td>\n",
       "      <td>45.0</td>\n",
       "      <td>Washington</td>\n",
       "      <td>Columbia Valley (WA)</td>\n",
       "      <td>Gordon Estate</td>\n",
       "      <td>Red Blend</td>\n",
       "    </tr>\n",
       "    <tr>\n",
       "      <th>9</th>\n",
       "      <td>Italy</td>\n",
       "      <td>Mannucci Droandi 2009 Ceppeto Riserva  (Chiant...</td>\n",
       "      <td>This blend of Sangiovese and 10% Merlot opens ...</td>\n",
       "      <td>86</td>\n",
       "      <td>31.0</td>\n",
       "      <td>Tuscany</td>\n",
       "      <td>Chianti Classico</td>\n",
       "      <td>Mannucci Droandi</td>\n",
       "      <td>Red Blend</td>\n",
       "    </tr>\n",
       "    <tr>\n",
       "      <th>14</th>\n",
       "      <td>Chile</td>\n",
       "      <td>Lapostolle 2007 Clos Apalta Red (Colchagua Val...</td>\n",
       "      <td>Outstanding as always. Right from the first ta...</td>\n",
       "      <td>93</td>\n",
       "      <td>80.0</td>\n",
       "      <td>Colchagua Valley</td>\n",
       "      <td>NaN</td>\n",
       "      <td>Lapostolle</td>\n",
       "      <td>Red Blend</td>\n",
       "    </tr>\n",
       "    <tr>\n",
       "      <th>16</th>\n",
       "      <td>Italy</td>\n",
       "      <td>Pietro Zardini 2009  Amarone della Valpolicella</td>\n",
       "      <td>Ripe dark fruit, leather and chocolate aromas ...</td>\n",
       "      <td>91</td>\n",
       "      <td>40.0</td>\n",
       "      <td>Veneto</td>\n",
       "      <td>Amarone della Valpolicella</td>\n",
       "      <td>Pietro Zardini</td>\n",
       "      <td>Red Blend</td>\n",
       "    </tr>\n",
       "    <tr>\n",
       "      <th>30</th>\n",
       "      <td>Italy</td>\n",
       "      <td>Cottanera 2011 Rosso  (Etna)</td>\n",
       "      <td>A blend of Nerello Mascalese and Nerello Cappu...</td>\n",
       "      <td>89</td>\n",
       "      <td>49.0</td>\n",
       "      <td>Sicily &amp; Sardinia</td>\n",
       "      <td>Etna</td>\n",
       "      <td>Cottanera</td>\n",
       "      <td>Red Blend</td>\n",
       "    </tr>\n",
       "    <tr>\n",
       "      <th>41</th>\n",
       "      <td>US</td>\n",
       "      <td>Heartache 2011 Red (California)</td>\n",
       "      <td>This basic wine that has earthy aromas, slight...</td>\n",
       "      <td>81</td>\n",
       "      <td>11.0</td>\n",
       "      <td>California</td>\n",
       "      <td>California</td>\n",
       "      <td>Heartache</td>\n",
       "      <td>Red Blend</td>\n",
       "    </tr>\n",
       "    <tr>\n",
       "      <th>69</th>\n",
       "      <td>Italy</td>\n",
       "      <td>Terre del Principe 2012 Castello delle Femmine...</td>\n",
       "      <td>Here's a unique blend of two of Campania's lit...</td>\n",
       "      <td>88</td>\n",
       "      <td>40.0</td>\n",
       "      <td>Southern Italy</td>\n",
       "      <td>Terre del Volturno</td>\n",
       "      <td>Terre del Principe</td>\n",
       "      <td>Red Blend</td>\n",
       "    </tr>\n",
       "    <tr>\n",
       "      <th>90</th>\n",
       "      <td>Chile</td>\n",
       "      <td>Santa Rita 2013 Triple C Red (Maipo Valley)</td>\n",
       "      <td>A stacked nose includes aromas of tomato, herb...</td>\n",
       "      <td>92</td>\n",
       "      <td>40.0</td>\n",
       "      <td>Maipo Valley</td>\n",
       "      <td>NaN</td>\n",
       "      <td>Santa Rita</td>\n",
       "      <td>Red Blend</td>\n",
       "    </tr>\n",
       "    <tr>\n",
       "      <th>98</th>\n",
       "      <td>Italy</td>\n",
       "      <td>Tenuta Monteti 2007 Caburnio Red (Toscana)</td>\n",
       "      <td>The picturesque hilltop hamlet of Capalbio in ...</td>\n",
       "      <td>91</td>\n",
       "      <td>22.0</td>\n",
       "      <td>Tuscany</td>\n",
       "      <td>Toscana</td>\n",
       "      <td>Tenuta Monteti</td>\n",
       "      <td>Red Blend</td>\n",
       "    </tr>\n",
       "    <tr>\n",
       "      <th>105</th>\n",
       "      <td>US</td>\n",
       "      <td>Wind Rose 2013 Bravo Rosso Red (Washington)</td>\n",
       "      <td>Barbera makes up just over half of this wine, ...</td>\n",
       "      <td>88</td>\n",
       "      <td>20.0</td>\n",
       "      <td>Washington</td>\n",
       "      <td>Washington</td>\n",
       "      <td>Wind Rose</td>\n",
       "      <td>Red Blend</td>\n",
       "    </tr>\n",
       "    <tr>\n",
       "      <th>108</th>\n",
       "      <td>Spain</td>\n",
       "      <td>Venta del Puerto 2013 No. 12 Selección Especia...</td>\n",
       "      <td>Ripe berry fruit and gritty oak aromas lead to...</td>\n",
       "      <td>90</td>\n",
       "      <td>20.0</td>\n",
       "      <td>Levante</td>\n",
       "      <td>Valencia</td>\n",
       "      <td>Venta del Puerto</td>\n",
       "      <td>Red Blend</td>\n",
       "    </tr>\n",
       "    <tr>\n",
       "      <th>142</th>\n",
       "      <td>Brazil</td>\n",
       "      <td>Salton 2009 Talento Red (Brazil)</td>\n",
       "      <td>Dry, earthy aromas of baked berry fruits and m...</td>\n",
       "      <td>87</td>\n",
       "      <td>21.0</td>\n",
       "      <td>Brazil</td>\n",
       "      <td>NaN</td>\n",
       "      <td>Salton</td>\n",
       "      <td>Red Blend</td>\n",
       "    </tr>\n",
       "    <tr>\n",
       "      <th>152</th>\n",
       "      <td>US</td>\n",
       "      <td>Toad Hollow 2011 Erik's The Red Proprietary Re...</td>\n",
       "      <td>Forget about the fine crystal glass, and don't...</td>\n",
       "      <td>84</td>\n",
       "      <td>15.0</td>\n",
       "      <td>California</td>\n",
       "      <td>California</td>\n",
       "      <td>Toad Hollow</td>\n",
       "      <td>Red Blend</td>\n",
       "    </tr>\n",
       "    <tr>\n",
       "      <th>182</th>\n",
       "      <td>Italy</td>\n",
       "      <td>Castello di Gabbiano 2012 Riserva  (Chianti Cl...</td>\n",
       "      <td>This opens with aromas of sunbaked earth, matu...</td>\n",
       "      <td>88</td>\n",
       "      <td>15.0</td>\n",
       "      <td>Tuscany</td>\n",
       "      <td>Chianti Classico</td>\n",
       "      <td>Castello di Gabbiano</td>\n",
       "      <td>Red Blend</td>\n",
       "    </tr>\n",
       "    <tr>\n",
       "      <th>185</th>\n",
       "      <td>Spain</td>\n",
       "      <td>Vega Escal 2011 Red (Priorat)</td>\n",
       "      <td>Earthy berry and licorice aromas are composed,...</td>\n",
       "      <td>89</td>\n",
       "      <td>23.0</td>\n",
       "      <td>Catalonia</td>\n",
       "      <td>Priorat</td>\n",
       "      <td>Vega Escal</td>\n",
       "      <td>Red Blend</td>\n",
       "    </tr>\n",
       "    <tr>\n",
       "      <th>192</th>\n",
       "      <td>Italy</td>\n",
       "      <td>Speri 2005  Valpolicella Superiore Ripasso</td>\n",
       "      <td>Speri's Ripasso has an added layer of spice, v...</td>\n",
       "      <td>88</td>\n",
       "      <td>28.0</td>\n",
       "      <td>Veneto</td>\n",
       "      <td>Valpolicella Superiore Ripasso</td>\n",
       "      <td>Speri</td>\n",
       "      <td>Red Blend</td>\n",
       "    </tr>\n",
       "    <tr>\n",
       "      <th>207</th>\n",
       "      <td>Spain</td>\n",
       "      <td>Les Mines 2011 Red (Priorat)</td>\n",
       "      <td>Plum and currant aromas are gaseous at first, ...</td>\n",
       "      <td>87</td>\n",
       "      <td>20.0</td>\n",
       "      <td>Catalonia</td>\n",
       "      <td>Priorat</td>\n",
       "      <td>Les Mines</td>\n",
       "      <td>Red Blend</td>\n",
       "    </tr>\n",
       "    <tr>\n",
       "      <th>211</th>\n",
       "      <td>US</td>\n",
       "      <td>Maryhill 2015 Winemaker's Red (Columbia Valley...</td>\n",
       "      <td>This wine's smoke, seaweed, black pepper, oran...</td>\n",
       "      <td>86</td>\n",
       "      <td>16.0</td>\n",
       "      <td>Washington</td>\n",
       "      <td>Columbia Valley (WA)</td>\n",
       "      <td>Maryhill</td>\n",
       "      <td>Red Blend</td>\n",
       "    </tr>\n",
       "    <tr>\n",
       "      <th>212</th>\n",
       "      <td>Spain</td>\n",
       "      <td>Clos Gebrat 2011 Red (Priorat)</td>\n",
       "      <td>Stalky aromas infiltrate schisty plum and berr...</td>\n",
       "      <td>86</td>\n",
       "      <td>20.0</td>\n",
       "      <td>Catalonia</td>\n",
       "      <td>Priorat</td>\n",
       "      <td>Clos Gebrat</td>\n",
       "      <td>Red Blend</td>\n",
       "    </tr>\n",
       "  </tbody>\n",
       "</table>\n",
       "</div>"
      ],
      "text/plain": [
       "    country                                       review_title  \\\n",
       "1        US  North by Northwest 2014 Red (Columbia Valley (...   \n",
       "6        US  Gordon Estate 2012 Tradition Red (Columbia Val...   \n",
       "9     Italy  Mannucci Droandi 2009 Ceppeto Riserva  (Chiant...   \n",
       "14    Chile  Lapostolle 2007 Clos Apalta Red (Colchagua Val...   \n",
       "16    Italy    Pietro Zardini 2009  Amarone della Valpolicella   \n",
       "30    Italy                       Cottanera 2011 Rosso  (Etna)   \n",
       "41       US                    Heartache 2011 Red (California)   \n",
       "69    Italy  Terre del Principe 2012 Castello delle Femmine...   \n",
       "90    Chile        Santa Rita 2013 Triple C Red (Maipo Valley)   \n",
       "98    Italy         Tenuta Monteti 2007 Caburnio Red (Toscana)   \n",
       "105      US        Wind Rose 2013 Bravo Rosso Red (Washington)   \n",
       "108   Spain  Venta del Puerto 2013 No. 12 Selección Especia...   \n",
       "142  Brazil                   Salton 2009 Talento Red (Brazil)   \n",
       "152      US  Toad Hollow 2011 Erik's The Red Proprietary Re...   \n",
       "182   Italy  Castello di Gabbiano 2012 Riserva  (Chianti Cl...   \n",
       "185   Spain                      Vega Escal 2011 Red (Priorat)   \n",
       "192   Italy         Speri 2005  Valpolicella Superiore Ripasso   \n",
       "207   Spain                       Les Mines 2011 Red (Priorat)   \n",
       "211      US  Maryhill 2015 Winemaker's Red (Columbia Valley...   \n",
       "212   Spain                     Clos Gebrat 2011 Red (Priorat)   \n",
       "\n",
       "                                    review_description  points  price  \\\n",
       "1    This wine is near equal parts Syrah and Merlot...      89   15.0   \n",
       "6    Half Syrah and half Cabernet Sauvignon, with 4...      91   45.0   \n",
       "9    This blend of Sangiovese and 10% Merlot opens ...      86   31.0   \n",
       "14   Outstanding as always. Right from the first ta...      93   80.0   \n",
       "16   Ripe dark fruit, leather and chocolate aromas ...      91   40.0   \n",
       "30   A blend of Nerello Mascalese and Nerello Cappu...      89   49.0   \n",
       "41   This basic wine that has earthy aromas, slight...      81   11.0   \n",
       "69   Here's a unique blend of two of Campania's lit...      88   40.0   \n",
       "90   A stacked nose includes aromas of tomato, herb...      92   40.0   \n",
       "98   The picturesque hilltop hamlet of Capalbio in ...      91   22.0   \n",
       "105  Barbera makes up just over half of this wine, ...      88   20.0   \n",
       "108  Ripe berry fruit and gritty oak aromas lead to...      90   20.0   \n",
       "142  Dry, earthy aromas of baked berry fruits and m...      87   21.0   \n",
       "152  Forget about the fine crystal glass, and don't...      84   15.0   \n",
       "182  This opens with aromas of sunbaked earth, matu...      88   15.0   \n",
       "185  Earthy berry and licorice aromas are composed,...      89   23.0   \n",
       "192  Speri's Ripasso has an added layer of spice, v...      88   28.0   \n",
       "207  Plum and currant aromas are gaseous at first, ...      87   20.0   \n",
       "211  This wine's smoke, seaweed, black pepper, oran...      86   16.0   \n",
       "212  Stalky aromas infiltrate schisty plum and berr...      86   20.0   \n",
       "\n",
       "              province                        region_1                winery  \\\n",
       "1           Washington            Columbia Valley (WA)    North by Northwest   \n",
       "6           Washington            Columbia Valley (WA)         Gordon Estate   \n",
       "9              Tuscany                Chianti Classico      Mannucci Droandi   \n",
       "14    Colchagua Valley                             NaN            Lapostolle   \n",
       "16              Veneto      Amarone della Valpolicella        Pietro Zardini   \n",
       "30   Sicily & Sardinia                            Etna             Cottanera   \n",
       "41          California                      California             Heartache   \n",
       "69      Southern Italy              Terre del Volturno    Terre del Principe   \n",
       "90        Maipo Valley                             NaN            Santa Rita   \n",
       "98             Tuscany                         Toscana        Tenuta Monteti   \n",
       "105         Washington                      Washington             Wind Rose   \n",
       "108            Levante                        Valencia      Venta del Puerto   \n",
       "142             Brazil                             NaN                Salton   \n",
       "152         California                      California           Toad Hollow   \n",
       "182            Tuscany                Chianti Classico  Castello di Gabbiano   \n",
       "185          Catalonia                         Priorat            Vega Escal   \n",
       "192             Veneto  Valpolicella Superiore Ripasso                 Speri   \n",
       "207          Catalonia                         Priorat             Les Mines   \n",
       "211         Washington            Columbia Valley (WA)              Maryhill   \n",
       "212          Catalonia                         Priorat           Clos Gebrat   \n",
       "\n",
       "       variety  \n",
       "1    Red Blend  \n",
       "6    Red Blend  \n",
       "9    Red Blend  \n",
       "14   Red Blend  \n",
       "16   Red Blend  \n",
       "30   Red Blend  \n",
       "41   Red Blend  \n",
       "69   Red Blend  \n",
       "90   Red Blend  \n",
       "98   Red Blend  \n",
       "105  Red Blend  \n",
       "108  Red Blend  \n",
       "142  Red Blend  \n",
       "152  Red Blend  \n",
       "182  Red Blend  \n",
       "185  Red Blend  \n",
       "192  Red Blend  \n",
       "207  Red Blend  \n",
       "211  Red Blend  \n",
       "212  Red Blend  "
      ]
     },
     "execution_count": 11,
     "metadata": {},
     "output_type": "execute_result"
    }
   ],
   "source": [
    "data[data['variety'] == 'Red Blend'].head(20)"
   ]
  },
  {
   "cell_type": "markdown",
   "metadata": {},
   "source": [
    " "
   ]
  },
  {
   "cell_type": "markdown",
   "metadata": {},
   "source": [
    " "
   ]
  },
  {
   "cell_type": "markdown",
   "metadata": {},
   "source": [
    "After analyzing the columns; review_title, province, region_1, and winery, it can be seen that the 'review_title' contains informaion about the region and the winery. Additionally, it also contains information about the dependent variable ie; variety. \n",
    "This makes the 'region_1' and the 'winery' columns redundant.   \n",
    "(Note that the 'review_title' column contains the variety of the wine along with the region adn winery information which makes it more important)"
   ]
  },
  {
   "cell_type": "code",
   "execution_count": 13,
   "metadata": {},
   "outputs": [],
   "source": [
    "data.drop(columns = ['region_1', 'winery'], axis = 1, inplace = True)"
   ]
  },
  {
   "cell_type": "markdown",
   "metadata": {},
   "source": [
    "#### Finding duplicate values"
   ]
  },
  {
   "cell_type": "code",
   "execution_count": 14,
   "metadata": {},
   "outputs": [
    {
     "data": {
      "text/plain": [
       "5014"
      ]
     },
     "execution_count": 14,
     "metadata": {},
     "output_type": "execute_result"
    }
   ],
   "source": [
    "len(data[data.duplicated() == True])"
   ]
  },
  {
   "cell_type": "code",
   "execution_count": 15,
   "metadata": {},
   "outputs": [
    {
     "data": {
      "text/plain": [
       "(77608, 7)"
      ]
     },
     "execution_count": 15,
     "metadata": {},
     "output_type": "execute_result"
    }
   ],
   "source": [
    "new_data = data[data.duplicated() == False]\n",
    "new_data.shape"
   ]
  },
  {
   "cell_type": "markdown",
   "metadata": {},
   "source": [
    " "
   ]
  },
  {
   "cell_type": "code",
   "execution_count": 16,
   "metadata": {},
   "outputs": [
    {
     "data": {
      "text/html": [
       "<div>\n",
       "<style scoped>\n",
       "    .dataframe tbody tr th:only-of-type {\n",
       "        vertical-align: middle;\n",
       "    }\n",
       "\n",
       "    .dataframe tbody tr th {\n",
       "        vertical-align: top;\n",
       "    }\n",
       "\n",
       "    .dataframe thead th {\n",
       "        text-align: right;\n",
       "    }\n",
       "</style>\n",
       "<table border=\"1\" class=\"dataframe\">\n",
       "  <thead>\n",
       "    <tr style=\"text-align: right;\">\n",
       "      <th></th>\n",
       "      <th>country</th>\n",
       "      <th>review_title</th>\n",
       "      <th>review_description</th>\n",
       "      <th>points</th>\n",
       "      <th>price</th>\n",
       "      <th>province</th>\n",
       "      <th>variety</th>\n",
       "    </tr>\n",
       "  </thead>\n",
       "  <tbody>\n",
       "    <tr>\n",
       "      <th>0</th>\n",
       "      <td>Australia</td>\n",
       "      <td>Andrew Peace 2007 Peace Family Vineyard Chardo...</td>\n",
       "      <td>Classic Chardonnay aromas of apple, pear and h...</td>\n",
       "      <td>83</td>\n",
       "      <td>10.0</td>\n",
       "      <td>Australia Other</td>\n",
       "      <td>Chardonnay</td>\n",
       "    </tr>\n",
       "    <tr>\n",
       "      <th>1</th>\n",
       "      <td>US</td>\n",
       "      <td>North by Northwest 2014 Red (Columbia Valley (...</td>\n",
       "      <td>This wine is near equal parts Syrah and Merlot...</td>\n",
       "      <td>89</td>\n",
       "      <td>15.0</td>\n",
       "      <td>Washington</td>\n",
       "      <td>Red Blend</td>\n",
       "    </tr>\n",
       "    <tr>\n",
       "      <th>2</th>\n",
       "      <td>Italy</td>\n",
       "      <td>Renato Ratti 2007 Conca  (Barolo)</td>\n",
       "      <td>Barolo Conca opens with inky dark concentratio...</td>\n",
       "      <td>94</td>\n",
       "      <td>80.0</td>\n",
       "      <td>Piedmont</td>\n",
       "      <td>Nebbiolo</td>\n",
       "    </tr>\n",
       "    <tr>\n",
       "      <th>3</th>\n",
       "      <td>France</td>\n",
       "      <td>Domaine l'Ancienne Cure 2010 L'Abbaye White (B...</td>\n",
       "      <td>It's impressive what a small addition of Sauvi...</td>\n",
       "      <td>87</td>\n",
       "      <td>22.0</td>\n",
       "      <td>Southwest France</td>\n",
       "      <td>Bordeaux-style White Blend</td>\n",
       "    </tr>\n",
       "    <tr>\n",
       "      <th>4</th>\n",
       "      <td>France</td>\n",
       "      <td>Château du Cèdre 2012 Le Cèdre Vintage Malbec ...</td>\n",
       "      <td>This ripe, sweet wine is rich and full of drie...</td>\n",
       "      <td>88</td>\n",
       "      <td>33.0</td>\n",
       "      <td>France Other</td>\n",
       "      <td>Malbec</td>\n",
       "    </tr>\n",
       "  </tbody>\n",
       "</table>\n",
       "</div>"
      ],
      "text/plain": [
       "     country                                       review_title  \\\n",
       "0  Australia  Andrew Peace 2007 Peace Family Vineyard Chardo...   \n",
       "1         US  North by Northwest 2014 Red (Columbia Valley (...   \n",
       "2      Italy                  Renato Ratti 2007 Conca  (Barolo)   \n",
       "3     France  Domaine l'Ancienne Cure 2010 L'Abbaye White (B...   \n",
       "4     France  Château du Cèdre 2012 Le Cèdre Vintage Malbec ...   \n",
       "\n",
       "                                  review_description  points  price  \\\n",
       "0  Classic Chardonnay aromas of apple, pear and h...      83   10.0   \n",
       "1  This wine is near equal parts Syrah and Merlot...      89   15.0   \n",
       "2  Barolo Conca opens with inky dark concentratio...      94   80.0   \n",
       "3  It's impressive what a small addition of Sauvi...      87   22.0   \n",
       "4  This ripe, sweet wine is rich and full of drie...      88   33.0   \n",
       "\n",
       "           province                     variety  \n",
       "0   Australia Other                  Chardonnay  \n",
       "1        Washington                   Red Blend  \n",
       "2          Piedmont                    Nebbiolo  \n",
       "3  Southwest France  Bordeaux-style White Blend  \n",
       "4      France Other                      Malbec  "
      ]
     },
     "execution_count": 16,
     "metadata": {},
     "output_type": "execute_result"
    }
   ],
   "source": [
    "new_data.head()"
   ]
  },
  {
   "cell_type": "markdown",
   "metadata": {},
   "source": [
    " "
   ]
  },
  {
   "cell_type": "markdown",
   "metadata": {},
   "source": [
    " "
   ]
  },
  {
   "cell_type": "markdown",
   "metadata": {},
   "source": [
    " ## Data Analysis"
   ]
  },
  {
   "cell_type": "code",
   "execution_count": 17,
   "metadata": {},
   "outputs": [],
   "source": [
    "price_country = new_data[['country', 'price']]"
   ]
  },
  {
   "cell_type": "markdown",
   "metadata": {},
   "source": [
    "We'll delete all the data that is greater than 98 percentile"
   ]
  },
  {
   "cell_type": "code",
   "execution_count": 18,
   "metadata": {},
   "outputs": [],
   "source": [
    "val = price_country[\"price\"].quantile(0.98)\n",
    "price_country = price_country[price_country[\"price\"] < val]"
   ]
  },
  {
   "cell_type": "markdown",
   "metadata": {},
   "source": [
    "We'll only consider those cuntries where more than 100 wines have been reviewd"
   ]
  },
  {
   "cell_type": "code",
   "execution_count": 19,
   "metadata": {},
   "outputs": [],
   "source": [
    "price_country = price_country.groupby(\"country\").filter(lambda x: (x[\"price\"].count() >= 100))\n"
   ]
  },
  {
   "cell_type": "code",
   "execution_count": 20,
   "metadata": {},
   "outputs": [
    {
     "data": {
      "image/png": "[encoded data removed]",
      "text/plain": [
       "<Figure size 432x288 with 1 Axes>"
      ]
     },
     "metadata": {
      "needs_background": "light"
     },
     "output_type": "display_data"
    }
   ],
   "source": [
    "ax = sn.boxplot(x=\"country\", y = \"price\", data=price_country)\n",
    "ax.set(ylim=(0, 200))\n",
    "ax.set_title(\"Wine Prices by Country\")\n",
    "ax.set(xlabel = \"Country\", ylabel = \"Price\")\n",
    "ax.set_xticklabels(ax.get_xticklabels(),rotation=45,ha=\"right\",rotation_mode='anchor')\n",
    "\n",
    "plt.show()\n"
   ]
  },
  {
   "cell_type": "code",
   "execution_count": 21,
   "metadata": {},
   "outputs": [
    {
     "data": {
      "image/png": "[encoded data removed]",
      "text/plain": [
       "<Figure size 432x288 with 1 Axes>"
      ]
     },
     "metadata": {
      "needs_background": "light"
     },
     "output_type": "display_data"
    }
   ],
   "source": [
    "prices_by_variety = data[[\"price\", \"variety\"]].dropna(how = \"any\")\n",
    "#Remove all data greater than the 98th percentile\n",
    "val = prices_by_variety[\"price\"].quantile(0.98)\n",
    "prices_by_variety = prices_by_variety[prices_by_variety[\"price\"] < val]\n",
    "# Only consider varieties where at least 500 wines have been reviewed\n",
    "prices_by_variety = prices_by_variety.groupby(\"variety\").filter(lambda x: (x[\"price\"].count() >= 500))\n",
    "ax = sn.boxplot(x=\"variety\", y = \"price\", data=prices_by_variety)\n",
    "ax.set_title(\"Wine Prices by Variety\")\n",
    "ax.set(xlabel = \"Origin Country\", ylabel = \"Price in USD\")\n",
    "ax.set_xticklabels(ax.get_xticklabels(),rotation=45,ha=\"right\",rotation_mode='anchor')\n",
    "plt.show()"
   ]
  },
  {
   "cell_type": "markdown",
   "metadata": {},
   "source": [
    "We can see from the above box plot that the Nebbiola has the highest average price, and it is the costliest type of wine to be sold."
   ]
  },
  {
   "cell_type": "markdown",
   "metadata": {},
   "source": [
    "### Working on the Numerical Data "
   ]
  },
  {
   "cell_type": "code",
   "execution_count": 22,
   "metadata": {},
   "outputs": [
    {
     "data": {
      "text/plain": [
       "(array([  687.,  3091.,  9806., 16606., 16562., 16126., 10396.,  3702.,\n",
       "          546.,    86.]),\n",
       " array([ 80.,  82.,  84.,  86.,  88.,  90.,  92.,  94.,  96.,  98., 100.]),\n",
       " <a list of 10 Patch objects>)"
      ]
     },
     "execution_count": 22,
     "metadata": {},
     "output_type": "execute_result"
    },
    {
     "data": {
      "image/png": "[encoded data removed]",
      "text/plain": [
       "<Figure size 432x288 with 1 Axes>"
      ]
     },
     "metadata": {
      "needs_background": "light"
     },
     "output_type": "display_data"
    }
   ],
   "source": [
    "plt.hist(new_data['points'], color = '#3FD37D')"
   ]
  },
  {
   "cell_type": "markdown",
   "metadata": {},
   "source": [
    "The above histogram shows that the points data follows a normal distribution."
   ]
  },
  {
   "cell_type": "code",
   "execution_count": 23,
   "metadata": {},
   "outputs": [
    {
     "data": {
      "text/plain": [
       "(array([245.,  88.,  87.,  71.,  44.,  30.,  31.,   9.,  33.,  19.]),\n",
       " array([170., 203., 236., 269., 302., 335., 368., 401., 434., 467., 500.]),\n",
       " <a list of 10 Patch objects>)"
      ]
     },
     "execution_count": 23,
     "metadata": {},
     "output_type": "execute_result"
    },
    {
     "data": {
      "image/png": "[encoded data removed]",
      "text/plain": [
       "<Figure size 432x288 with 1 Axes>"
      ]
     },
     "metadata": {
      "needs_background": "light"
     },
     "output_type": "display_data"
    }
   ],
   "source": [
    "plt.hist(new_data['price'], color = '#3FD37D', range = [170,500])"
   ]
  },
  {
   "cell_type": "markdown",
   "metadata": {},
   "source": [
    "WE CAN SEE THAT MOST THE NUMBER OF PRICE VALUES KEEP DECREASES AFTER 170 AND HENCE WE CAN REMOVE THEM"
   ]
  },
  {
   "cell_type": "code",
   "execution_count": 24,
   "metadata": {
    "scrolled": true
   },
   "outputs": [
    {
     "name": "stderr",
     "output_type": "stream",
     "text": [
      "/Users/tapas/opt/anaconda3/lib/python3.7/site-packages/pandas/core/frame.py:3997: SettingWithCopyWarning: \n",
      "A value is trying to be set on a copy of a slice from a DataFrame\n",
      "\n",
      "See the caveats in the documentation: https://pandas.pydata.org/pandas-docs/stable/user_guide/indexing.html#returning-a-view-versus-a-copy\n",
      "  errors=errors,\n"
     ]
    }
   ],
   "source": [
    "new_data.drop(new_data[new_data['price'] > 170].index, axis=0 ,inplace = True)"
   ]
  },
  {
   "cell_type": "markdown",
   "metadata": {},
   "source": [
    " Dropping the country column as the review title provides sufficient information regarding the location."
   ]
  },
  {
   "cell_type": "code",
   "execution_count": 25,
   "metadata": {},
   "outputs": [],
   "source": [
    "new_data.drop(columns = ['country'], axis = 1, inplace = True)"
   ]
  },
  {
   "cell_type": "code",
   "execution_count": 26,
   "metadata": {},
   "outputs": [],
   "source": [
    "from nltk.corpus import stopwords\n",
    "from nltk import word_tokenize\n",
    "from nltk.tokenize.treebank import TreebankWordDetokenizer"
   ]
  },
  {
   "cell_type": "code",
   "execution_count": 27,
   "metadata": {},
   "outputs": [],
   "source": [
    "stopwords = set(stopwords.words('english'))\n",
    "detokenizer = TreebankWordDetokenizer()"
   ]
  },
  {
   "cell_type": "code",
   "execution_count": 28,
   "metadata": {},
   "outputs": [],
   "source": [
    "def cleaned_desc(desc):\n",
    "    desc = word_tokenize(desc.lower())\n",
    "    desc = [token for token in desc if token not in stopwords and token.isalpha() and len(token) > 4]\n",
    "    return detokenizer.detokenize(desc)\n",
    "\n",
    "data['clean_desc'] = data[\"review_description\"].apply(cleaned_desc)\n",
    "word_occurance = data['clean_desc'].str.split(expand = True).stack().value_counts()\n"
   ]
  },
  {
   "cell_type": "code",
   "execution_count": 29,
   "metadata": {},
   "outputs": [
    {
     "data": {
      "image/png": "[encoded data removed]",
      "text/plain": [
       "<Figure size 432x288 with 1 Axes>"
      ]
     },
     "metadata": {},
     "output_type": "display_data"
    }
   ],
   "source": [
    "total_words = sum(word_occurance)\n",
    "\n",
    "#Plotting the most common words\n",
    "top_words = word_occurance[:30]/total_words\n",
    "\n",
    "sn.set(style=\"whitegrid\")\n",
    "ax = sn.barplot(x = top_words.values, y = top_words.index)\n",
    "ax.set_title(\"% Occurrence of Most Frequent Words\")\n",
    "\n",
    "plt.show()"
   ]
  },
  {
   "cell_type": "markdown",
   "metadata": {},
   "source": [
    "From the above plot, we can see that wine has been used the most number of times in the reviews posted by the users, followed by flavors adn fruit."
   ]
  },
  {
   "cell_type": "code",
   "execution_count": 30,
   "metadata": {
    "scrolled": true
   },
   "outputs": [
    {
     "data": {
      "text/html": [
       "<div>\n",
       "<style scoped>\n",
       "    .dataframe tbody tr th:only-of-type {\n",
       "        vertical-align: middle;\n",
       "    }\n",
       "\n",
       "    .dataframe tbody tr th {\n",
       "        vertical-align: top;\n",
       "    }\n",
       "\n",
       "    .dataframe thead th {\n",
       "        text-align: right;\n",
       "    }\n",
       "</style>\n",
       "<table border=\"1\" class=\"dataframe\">\n",
       "  <thead>\n",
       "    <tr style=\"text-align: right;\">\n",
       "      <th></th>\n",
       "      <th>review_title</th>\n",
       "      <th>review_description</th>\n",
       "      <th>points</th>\n",
       "      <th>price</th>\n",
       "      <th>province</th>\n",
       "      <th>variety</th>\n",
       "    </tr>\n",
       "  </thead>\n",
       "  <tbody>\n",
       "    <tr>\n",
       "      <th>0</th>\n",
       "      <td>Andrew Peace 2007 Peace Family Vineyard Chardo...</td>\n",
       "      <td>Classic Chardonnay aromas of apple, pear and h...</td>\n",
       "      <td>83</td>\n",
       "      <td>10.0</td>\n",
       "      <td>Australia Other</td>\n",
       "      <td>Chardonnay</td>\n",
       "    </tr>\n",
       "    <tr>\n",
       "      <th>1</th>\n",
       "      <td>North by Northwest 2014 Red (Columbia Valley (...</td>\n",
       "      <td>This wine is near equal parts Syrah and Merlot...</td>\n",
       "      <td>89</td>\n",
       "      <td>15.0</td>\n",
       "      <td>Washington</td>\n",
       "      <td>Red Blend</td>\n",
       "    </tr>\n",
       "    <tr>\n",
       "      <th>2</th>\n",
       "      <td>Renato Ratti 2007 Conca  (Barolo)</td>\n",
       "      <td>Barolo Conca opens with inky dark concentratio...</td>\n",
       "      <td>94</td>\n",
       "      <td>80.0</td>\n",
       "      <td>Piedmont</td>\n",
       "      <td>Nebbiolo</td>\n",
       "    </tr>\n",
       "    <tr>\n",
       "      <th>3</th>\n",
       "      <td>Domaine l'Ancienne Cure 2010 L'Abbaye White (B...</td>\n",
       "      <td>It's impressive what a small addition of Sauvi...</td>\n",
       "      <td>87</td>\n",
       "      <td>22.0</td>\n",
       "      <td>Southwest France</td>\n",
       "      <td>Bordeaux-style White Blend</td>\n",
       "    </tr>\n",
       "    <tr>\n",
       "      <th>4</th>\n",
       "      <td>Château du Cèdre 2012 Le Cèdre Vintage Malbec ...</td>\n",
       "      <td>This ripe, sweet wine is rich and full of drie...</td>\n",
       "      <td>88</td>\n",
       "      <td>33.0</td>\n",
       "      <td>France Other</td>\n",
       "      <td>Malbec</td>\n",
       "    </tr>\n",
       "  </tbody>\n",
       "</table>\n",
       "</div>"
      ],
      "text/plain": [
       "                                        review_title  \\\n",
       "0  Andrew Peace 2007 Peace Family Vineyard Chardo...   \n",
       "1  North by Northwest 2014 Red (Columbia Valley (...   \n",
       "2                  Renato Ratti 2007 Conca  (Barolo)   \n",
       "3  Domaine l'Ancienne Cure 2010 L'Abbaye White (B...   \n",
       "4  Château du Cèdre 2012 Le Cèdre Vintage Malbec ...   \n",
       "\n",
       "                                  review_description  points  price  \\\n",
       "0  Classic Chardonnay aromas of apple, pear and h...      83   10.0   \n",
       "1  This wine is near equal parts Syrah and Merlot...      89   15.0   \n",
       "2  Barolo Conca opens with inky dark concentratio...      94   80.0   \n",
       "3  It's impressive what a small addition of Sauvi...      87   22.0   \n",
       "4  This ripe, sweet wine is rich and full of drie...      88   33.0   \n",
       "\n",
       "           province                     variety  \n",
       "0   Australia Other                  Chardonnay  \n",
       "1        Washington                   Red Blend  \n",
       "2          Piedmont                    Nebbiolo  \n",
       "3  Southwest France  Bordeaux-style White Blend  \n",
       "4      France Other                      Malbec  "
      ]
     },
     "execution_count": 30,
     "metadata": {},
     "output_type": "execute_result"
    }
   ],
   "source": [
    "new_data.head()"
   ]
  },
  {
   "cell_type": "code",
   "execution_count": 31,
   "metadata": {},
   "outputs": [
    {
     "name": "stderr",
     "output_type": "stream",
     "text": [
      "/Users/tapas/opt/anaconda3/lib/python3.7/site-packages/ipykernel_launcher.py:1: SettingWithCopyWarning: \n",
      "A value is trying to be set on a copy of a slice from a DataFrame.\n",
      "Try using .loc[row_indexer,col_indexer] = value instead\n",
      "\n",
      "See the caveats in the documentation: https://pandas.pydata.org/pandas-docs/stable/user_guide/indexing.html#returning-a-view-versus-a-copy\n",
      "  \"\"\"Entry point for launching an IPython kernel.\n"
     ]
    }
   ],
   "source": [
    "new_data['cleaned_desc'] =  new_data['review_description'].apply(cleaned_desc)"
   ]
  },
  {
   "cell_type": "code",
   "execution_count": 32,
   "metadata": {},
   "outputs": [],
   "source": [
    "new_data.reset_index(inplace= True)"
   ]
  },
  {
   "cell_type": "markdown",
   "metadata": {},
   "source": [
    "### Vectorizing the review_description and review_title columns with the help of Bag of Words"
   ]
  },
  {
   "cell_type": "code",
   "execution_count": 33,
   "metadata": {
    "scrolled": true
   },
   "outputs": [
    {
     "data": {
      "text/plain": [
       "array(['classic chardonnay aromas apple palate marked decent intensity sweetness orange candy notes rather short finish',\n",
       "       'equal parts syrah merlot balance cabernet sauvignon aromas fruit vanilla cherry flavors bring sense deliciousness resist',\n",
       "       'barolo conca opens concentration soothing aromas black fruit spice prune dried lavender presents ethereal delicate aromas mouth delivers thicker flavors chocolate mocha drink',\n",
       "       ...,\n",
       "       'pungent notes turmeric dried flower first underlying scents tobacco cassis palate medium bodied chocolaty bears chalky tannins finish',\n",
       "       'lively fruity weight structure keeping instant drinkability along sense balance',\n",
       "       'vital cabernet immediate attraction deceptive enjoy brimming cherry black currants finish caramelized soften mellow eight years maybe longer round estate cabernet years'],\n",
       "      dtype=object)"
      ]
     },
     "execution_count": 33,
     "metadata": {},
     "output_type": "execute_result"
    }
   ],
   "source": [
    "new_data.cleaned_desc.values"
   ]
  },
  {
   "cell_type": "code",
   "execution_count": 40,
   "metadata": {},
   "outputs": [],
   "source": [
    "vect = CountVectorizer(stop_words='english')\n",
    "vect.fit(new_data.cleaned_desc.values)"
   ]
  },
  {
   "cell_type": "code",
   "execution_count": 35,
   "metadata": {},
   "outputs": [],
   "source": [
    "bag =vect.transform(new_data.cleaned_desc.values)"
   ]
  },
  {
   "cell_type": "code",
   "execution_count": 36,
   "metadata": {
    "scrolled": true
   },
   "outputs": [],
   "source": [
    "bags = pd.DataFrame(bag.toarray())\n",
    "bags.columns = vect.get_feature_names()"
   ]
  },
  {
   "cell_type": "code",
   "execution_count": 41,
   "metadata": {},
   "outputs": [
    {
     "name": "stderr",
     "output_type": "stream",
     "text": [
      "/Users/tapas/opt/anaconda3/lib/python3.7/site-packages/ipykernel_launcher.py:1: SettingWithCopyWarning: \n",
      "A value is trying to be set on a copy of a slice from a DataFrame.\n",
      "Try using .loc[row_indexer,col_indexer] = value instead\n",
      "\n",
      "See the caveats in the documentation: https://pandas.pydata.org/pandas-docs/stable/user_guide/indexing.html#returning-a-view-versus-a-copy\n",
      "  \"\"\"Entry point for launching an IPython kernel.\n"
     ]
    }
   ],
   "source": [
    "new_data['cleaned_title'] =  new_data['review_title'].apply(cleaned_desc)"
   ]
  },
  {
   "cell_type": "code",
   "execution_count": 43,
   "metadata": {},
   "outputs": [
    {
     "data": {
      "text/plain": [
       "CountVectorizer(analyzer='word', binary=False, decode_error='strict',\n",
       "                dtype=<class 'numpy.int64'>, encoding='utf-8', input='content',\n",
       "                lowercase=True, max_df=1.0, max_features=None, min_df=1,\n",
       "                ngram_range=(1, 1), preprocessor=None, stop_words='english',\n",
       "                strip_accents=None, token_pattern='(?u)\\\\b\\\\w\\\\w+\\\\b',\n",
       "                tokenizer=None, vocabulary=None)"
      ]
     },
     "execution_count": 43,
     "metadata": {},
     "output_type": "execute_result"
    }
   ],
   "source": [
    "vect = CountVectorizer(stop_words='english')\n",
    "vect.fit(new_data.cleaned_title.values)\n",
    "bag2 =vect.transform(new_data.cleaned_desc.values)\n",
    "bags2 = pd.DataFrame(bag2.toarray())\n",
    "bags2.columns = vect.get_feature_names()"
   ]
  },
  {
   "cell_type": "code",
   "execution_count": 44,
   "metadata": {},
   "outputs": [],
   "source": []
  },
  {
   "cell_type": "code",
   "execution_count": 48,
   "metadata": {
    "scrolled": false
   },
   "outputs": [],
   "source": [
    "new_data.drop(columns = ['review_description', 'review_title'],axis = 1, inplace = True)"
   ]
  },
  {
   "cell_type": "code",
   "execution_count": 46,
   "metadata": {
    "scrolled": true
   },
   "outputs": [
    {
     "ename": "KeyboardInterrupt",
     "evalue": "",
     "output_type": "error",
     "traceback": [
      "\u001b[0;31m---------------------------------------------------------------------------\u001b[0m",
      "\u001b[0;31mKeyboardInterrupt\u001b[0m                         Traceback (most recent call last)",
      "\u001b[0;32m<ipython-input-46-587f9d10b90d>\u001b[0m in \u001b[0;36m<module>\u001b[0;34m\u001b[0m\n\u001b[0;32m----> 1\u001b[0;31m \u001b[0mbags3\u001b[0m \u001b[0;34m=\u001b[0m \u001b[0mbags\u001b[0m\u001b[0;34m.\u001b[0m\u001b[0mappend\u001b[0m\u001b[0;34m(\u001b[0m\u001b[0mbags2\u001b[0m\u001b[0;34m)\u001b[0m\u001b[0;34m\u001b[0m\u001b[0;34m\u001b[0m\u001b[0m\n\u001b[0m",
      "\u001b[0;32m~/opt/anaconda3/lib/python3.7/site-packages/pandas/core/frame.py\u001b[0m in \u001b[0;36mappend\u001b[0;34m(self, other, ignore_index, verify_integrity, sort)\u001b[0m\n\u001b[1;32m   7083\u001b[0m             \u001b[0mignore_index\u001b[0m\u001b[0;34m=\u001b[0m\u001b[0mignore_index\u001b[0m\u001b[0;34m,\u001b[0m\u001b[0;34m\u001b[0m\u001b[0;34m\u001b[0m\u001b[0m\n\u001b[1;32m   7084\u001b[0m             \u001b[0mverify_integrity\u001b[0m\u001b[0;34m=\u001b[0m\u001b[0mverify_integrity\u001b[0m\u001b[0;34m,\u001b[0m\u001b[0;34m\u001b[0m\u001b[0;34m\u001b[0m\u001b[0m\n\u001b[0;32m-> 7085\u001b[0;31m             \u001b[0msort\u001b[0m\u001b[0;34m=\u001b[0m\u001b[0msort\u001b[0m\u001b[0;34m,\u001b[0m\u001b[0;34m\u001b[0m\u001b[0;34m\u001b[0m\u001b[0m\n\u001b[0m\u001b[1;32m   7086\u001b[0m         )\n\u001b[1;32m   7087\u001b[0m \u001b[0;34m\u001b[0m\u001b[0m\n",
      "\u001b[0;32m~/opt/anaconda3/lib/python3.7/site-packages/pandas/core/reshape/concat.py\u001b[0m in \u001b[0;36mconcat\u001b[0;34m(objs, axis, join, ignore_index, keys, levels, names, verify_integrity, sort, copy)\u001b[0m\n\u001b[1;32m    282\u001b[0m     )\n\u001b[1;32m    283\u001b[0m \u001b[0;34m\u001b[0m\u001b[0m\n\u001b[0;32m--> 284\u001b[0;31m     \u001b[0;32mreturn\u001b[0m \u001b[0mop\u001b[0m\u001b[0;34m.\u001b[0m\u001b[0mget_result\u001b[0m\u001b[0;34m(\u001b[0m\u001b[0;34m)\u001b[0m\u001b[0;34m\u001b[0m\u001b[0;34m\u001b[0m\u001b[0m\n\u001b[0m\u001b[1;32m    285\u001b[0m \u001b[0;34m\u001b[0m\u001b[0m\n\u001b[1;32m    286\u001b[0m \u001b[0;34m\u001b[0m\u001b[0m\n",
      "\u001b[0;32m~/opt/anaconda3/lib/python3.7/site-packages/pandas/core/reshape/concat.py\u001b[0m in \u001b[0;36mget_result\u001b[0;34m(self)\u001b[0m\n\u001b[1;32m    495\u001b[0m \u001b[0;34m\u001b[0m\u001b[0m\n\u001b[1;32m    496\u001b[0m             new_data = concatenate_block_managers(\n\u001b[0;32m--> 497\u001b[0;31m                 \u001b[0mmgrs_indexers\u001b[0m\u001b[0;34m,\u001b[0m \u001b[0mself\u001b[0m\u001b[0;34m.\u001b[0m\u001b[0mnew_axes\u001b[0m\u001b[0;34m,\u001b[0m \u001b[0mconcat_axis\u001b[0m\u001b[0;34m=\u001b[0m\u001b[0mself\u001b[0m\u001b[0;34m.\u001b[0m\u001b[0maxis\u001b[0m\u001b[0;34m,\u001b[0m \u001b[0mcopy\u001b[0m\u001b[0;34m=\u001b[0m\u001b[0mself\u001b[0m\u001b[0;34m.\u001b[0m\u001b[0mcopy\u001b[0m\u001b[0;34m\u001b[0m\u001b[0;34m\u001b[0m\u001b[0m\n\u001b[0m\u001b[1;32m    498\u001b[0m             )\n\u001b[1;32m    499\u001b[0m             \u001b[0;32mif\u001b[0m \u001b[0;32mnot\u001b[0m \u001b[0mself\u001b[0m\u001b[0;34m.\u001b[0m\u001b[0mcopy\u001b[0m\u001b[0;34m:\u001b[0m\u001b[0;34m\u001b[0m\u001b[0;34m\u001b[0m\u001b[0m\n",
      "\u001b[0;32m~/opt/anaconda3/lib/python3.7/site-packages/pandas/core/internals/managers.py\u001b[0m in \u001b[0;36mconcatenate_block_managers\u001b[0;34m(mgrs_indexers, axes, concat_axis, copy)\u001b[0m\n\u001b[1;32m   2020\u001b[0m         \u001b[0;32melse\u001b[0m\u001b[0;34m:\u001b[0m\u001b[0;34m\u001b[0m\u001b[0;34m\u001b[0m\u001b[0m\n\u001b[1;32m   2021\u001b[0m             b = make_block(\n\u001b[0;32m-> 2022\u001b[0;31m                 \u001b[0mconcatenate_join_units\u001b[0m\u001b[0;34m(\u001b[0m\u001b[0mjoin_units\u001b[0m\u001b[0;34m,\u001b[0m \u001b[0mconcat_axis\u001b[0m\u001b[0;34m,\u001b[0m \u001b[0mcopy\u001b[0m\u001b[0;34m=\u001b[0m\u001b[0mcopy\u001b[0m\u001b[0;34m)\u001b[0m\u001b[0;34m,\u001b[0m\u001b[0;34m\u001b[0m\u001b[0;34m\u001b[0m\u001b[0m\n\u001b[0m\u001b[1;32m   2023\u001b[0m                 \u001b[0mplacement\u001b[0m\u001b[0;34m=\u001b[0m\u001b[0mplacement\u001b[0m\u001b[0;34m,\u001b[0m\u001b[0;34m\u001b[0m\u001b[0;34m\u001b[0m\u001b[0m\n\u001b[1;32m   2024\u001b[0m             )\n",
      "\u001b[0;32m~/opt/anaconda3/lib/python3.7/site-packages/pandas/core/internals/concat.py\u001b[0m in \u001b[0;36mconcatenate_join_units\u001b[0;34m(join_units, concat_axis, copy)\u001b[0m\n\u001b[1;32m    261\u001b[0m                 \u001b[0mconcat_values\u001b[0m \u001b[0;34m=\u001b[0m \u001b[0mconcat_values\u001b[0m\u001b[0;34m.\u001b[0m\u001b[0mcopy\u001b[0m\u001b[0;34m(\u001b[0m\u001b[0;34m)\u001b[0m\u001b[0;34m\u001b[0m\u001b[0;34m\u001b[0m\u001b[0m\n\u001b[1;32m    262\u001b[0m     \u001b[0;32melse\u001b[0m\u001b[0;34m:\u001b[0m\u001b[0;34m\u001b[0m\u001b[0;34m\u001b[0m\u001b[0m\n\u001b[0;32m--> 263\u001b[0;31m         \u001b[0mconcat_values\u001b[0m \u001b[0;34m=\u001b[0m \u001b[0mconcat_compat\u001b[0m\u001b[0;34m(\u001b[0m\u001b[0mto_concat\u001b[0m\u001b[0;34m,\u001b[0m \u001b[0maxis\u001b[0m\u001b[0;34m=\u001b[0m\u001b[0mconcat_axis\u001b[0m\u001b[0;34m)\u001b[0m\u001b[0;34m\u001b[0m\u001b[0;34m\u001b[0m\u001b[0m\n\u001b[0m\u001b[1;32m    264\u001b[0m \u001b[0;34m\u001b[0m\u001b[0m\n\u001b[1;32m    265\u001b[0m     \u001b[0;32mreturn\u001b[0m \u001b[0mconcat_values\u001b[0m\u001b[0;34m\u001b[0m\u001b[0;34m\u001b[0m\u001b[0m\n",
      "\u001b[0;32m~/opt/anaconda3/lib/python3.7/site-packages/pandas/core/dtypes/concat.py\u001b[0m in \u001b[0;36mconcat_compat\u001b[0;34m(to_concat, axis)\u001b[0m\n\u001b[1;32m    135\u001b[0m                 \u001b[0mto_concat\u001b[0m \u001b[0;34m=\u001b[0m \u001b[0;34m[\u001b[0m\u001b[0mx\u001b[0m\u001b[0;34m.\u001b[0m\u001b[0mastype\u001b[0m\u001b[0;34m(\u001b[0m\u001b[0;34m\"object\"\u001b[0m\u001b[0;34m)\u001b[0m \u001b[0;32mfor\u001b[0m \u001b[0mx\u001b[0m \u001b[0;32min\u001b[0m \u001b[0mto_concat\u001b[0m\u001b[0;34m]\u001b[0m\u001b[0;34m\u001b[0m\u001b[0;34m\u001b[0m\u001b[0m\n\u001b[1;32m    136\u001b[0m \u001b[0;34m\u001b[0m\u001b[0m\n\u001b[0;32m--> 137\u001b[0;31m     \u001b[0;32mreturn\u001b[0m \u001b[0mnp\u001b[0m\u001b[0;34m.\u001b[0m\u001b[0mconcatenate\u001b[0m\u001b[0;34m(\u001b[0m\u001b[0mto_concat\u001b[0m\u001b[0;34m,\u001b[0m \u001b[0maxis\u001b[0m\u001b[0;34m=\u001b[0m\u001b[0maxis\u001b[0m\u001b[0;34m)\u001b[0m\u001b[0;34m\u001b[0m\u001b[0;34m\u001b[0m\u001b[0m\n\u001b[0m\u001b[1;32m    138\u001b[0m \u001b[0;34m\u001b[0m\u001b[0m\n\u001b[1;32m    139\u001b[0m \u001b[0;34m\u001b[0m\u001b[0m\n",
      "\u001b[0;32m<__array_function__ internals>\u001b[0m in \u001b[0;36mconcatenate\u001b[0;34m(*args, **kwargs)\u001b[0m\n",
      "\u001b[0;31mKeyboardInterrupt\u001b[0m: "
     ]
    }
   ],
   "source": [
    "bags3 = bags.append(bags2)"
   ]
  },
  {
   "cell_type": "code",
   "execution_count": null,
   "metadata": {},
   "outputs": [],
   "source": [
    "final_data = new_data.append(bags3)"
   ]
  },
  {
   "cell_type": "code",
   "execution_count": 49,
   "metadata": {},
   "outputs": [],
   "source": [
    "output_data = final_data['variety']"
   ]
  },
  {
   "cell_type": "code",
   "execution_count": null,
   "metadata": {},
   "outputs": [],
   "source": [
    "final_data.drop(columns = ['variety'], axis =1, inplace = True)"
   ]
  },
  {
   "cell_type": "markdown",
   "metadata": {},
   "source": [
    " "
   ]
  },
  {
   "cell_type": "markdown",
   "metadata": {},
   "source": [
    "### Building model"
   ]
  },
  {
   "cell_type": "code",
   "execution_count": null,
   "metadata": {},
   "outputs": [],
   "source": [
    "labelEncoder = LabelEncoder()\n",
    "output_data = labelEncoder.fit_transform(output_data)\n",
    "output_data"
   ]
  },
  {
   "cell_type": "code",
   "execution_count": null,
   "metadata": {},
   "outputs": [],
   "source": [
    "X_train, X_test, y_train, y_test = train_test_split(final_data, output_data, test_size=0.2) "
   ]
  },
  {
   "cell_type": "code",
   "execution_count": null,
   "metadata": {},
   "outputs": [],
   "source": [
    "model = Sequential()\n",
    "model.add(Dense(100, activation='relu', input_dim=len(countVectorizer.get_feature_names())))\n",
    "model.add(Dense(units=output_data.max()+1, activation='sigmoid'))\n",
    "model.compile(loss='sparse_categorical_crossentropy', optimizer='adam', metrics=['accuracy'])\n",
    "model.fit(X_train, y_train, epochs=2, verbose=1)"
   ]
  },
  {
   "cell_type": "code",
   "execution_count": null,
   "metadata": {},
   "outputs": [],
   "source": [
    "scores = model.evaluate(X_test, y_test, verbose=1)\n",
    "print ('The accuracy of the model is %s' % scores[1])"
   ]
  }
 ],
 "metadata": {
  "kernelspec": {
   "display_name": "Python 3",
   "language": "python",
   "name": "python3"
  },
  "language_info": {
   "codemirror_mode": {
    "name": "ipython",
    "version": 3
   },
   "file_extension": ".py",
   "mimetype": "text/x-python",
   "name": "python",
   "nbconvert_exporter": "python",
   "pygments_lexer": "ipython3",
   "version": "3.7.6"
  }
 },
 "nbformat": 4,
 "nbformat_minor": 4
}
